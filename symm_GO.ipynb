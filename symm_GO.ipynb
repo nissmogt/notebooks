{
 "cells": [
  {
   "cell_type": "code",
   "execution_count": 1,
   "metadata": {
    "collapsed": false
   },
   "outputs": [],
   "source": [
    "import numpy as np\n",
    "import sys\n",
    "from Bio.PDB import *\n",
    "from Bio.PDB.PDBParser import PDBParser\n",
    "import warnings\n",
    "from Bio.PDB.PDBExceptions import PDBConstructionWarning\n",
    "warnings.simplefilter('ignore', PDBConstructionWarning)"
   ]
  },
  {
   "cell_type": "markdown",
   "metadata": {},
   "source": [
    "## Overview"
   ]
  },
  {
   "cell_type": "markdown",
   "metadata": {},
   "source": [
    "Given a residue pair, ***i*** and ***j***, that is an interchain contact, this function makes it so that residue ***i*** is also in contact with every residue ***j*** for each chain."
   ]
  },
  {
   "cell_type": "markdown",
   "metadata": {},
   "source": [
    "* [Main function](#Generate-Symmetrized-GO-DCA-contacts-Main-Function)\n",
    "* [Run function](#Run-function)"
   ]
  },
  {
   "cell_type": "markdown",
   "metadata": {},
   "source": [
    "### Inputs"
   ]
  },
  {
   "cell_type": "code",
   "execution_count": 2,
   "metadata": {
    "collapsed": false
   },
   "outputs": [],
   "source": [
    "pdbID = '2zwh'\n",
    "pdb_file = '../actin/factin/oda9.pdb'\n",
    "# pdb_file = '../mreb/sbm/mamk/5ljv_mamk.pdb'\n",
    "# pdb_file = '../hsp70/4jne.pdb'\n",
    "# dca_contacts = np.loadtxt('../actin/pdb_interfacial_6A.contacts')\n",
    "# dca_contacts = np.loadtxt('../actin/plmDCA/actinf150_mapped_plm.contacts')\n",
    "dca_contacts = np.loadtxt('../actin/plmDCA/cytoplasm/from_actin-actin_subseq/dca12A_inter_actin2.contacts')\n",
    "# dca_contacts = np.loadtxt('../mreb/plmdca/mreb_single/mamk_mapped.fn')\n",
    "# dca_contacts = np.loadtxt('../hsp70/plmdca/hsp70_swiss_mapped.fn')"
   ]
  },
  {
   "cell_type": "code",
   "execution_count": 3,
   "metadata": {
    "collapsed": false
   },
   "outputs": [],
   "source": [
    "import string\n",
    "\n",
    "## Creates a dictionary of characters (from A-Z) to corresponding numbers\n",
    "def genChainDict(chain_length):\n",
    "    chain_dict = {}\n",
    "    chain_numbers = range(chain_length)\n",
    "    chain_letters = []\n",
    "    for char in string.ascii_uppercase:\n",
    "        chain_letters.append(char)\n",
    "\n",
    "    chain_dict = dict(zip(chain_letters, chain_numbers))\n",
    "    return chain_dict"
   ]
  },
  {
   "cell_type": "markdown",
   "metadata": {
    "collapsed": true
   },
   "source": [
    "## Generate Symmetrized GO DCA contacts Main Function"
   ]
  },
  {
   "cell_type": "markdown",
   "metadata": {},
   "source": [
    "[Back to Overview](#Overview)"
   ]
  },
  {
   "cell_type": "code",
   "execution_count": 38,
   "metadata": {
    "collapsed": false
   },
   "outputs": [],
   "source": [
    "def genInterfaceDCA(dca_contacts, total_dca_pairs, nres=374, nchain=None):\n",
    "    \n",
    "    # Initial parameters\n",
    "    total_generated = 0\n",
    "    missing_res = 0\n",
    "    \n",
    "    # Extract PDB information using BIOpython\n",
    "    p = PDBParser(PERMISSIVE=1)\n",
    "    structure = p.get_structure(pdbID, pdb_file)\n",
    "    \n",
    "    chain_length = len(Selection.unfold_entities(structure, 'C'))\n",
    "    if nchain is None:\n",
    "        nchain = chain_length\n",
    "    chain_dict = genChainDict(nchain)\n",
    "    \n",
    "    target = open('../actin/sbm/oda4mer/DCAsym.contacts', 'w')\n",
    "    expected_pairs = total_dca_pairs*nchain*(nchain-1)   \n",
    "    # Loop thru each DCA pair for each Chain in PDB and calculate pair distances\n",
    "    for pair in dca_contacts[0:total_dca_pairs]:\n",
    "        i = int(pair[0])\n",
    "        j = int(pair[1])\n",
    "        chainsI = structure.get_chains()\n",
    "        \n",
    "        # Need this try/except statement in case there are missing residues in PDB\n",
    "        try:    \n",
    "            for chain_I in tuple(chainsI)[0:nchain]:\n",
    "#                 print chain_I\n",
    "                chainsJ = structure.get_chains()\n",
    "                for chain_J in tuple(chainsJ)[0:nchain]:\n",
    "                    if (chain_J != chain_I):\n",
    "#                         res_i = chain_I[i]\n",
    "#                         res_j = chain_J[j]\n",
    "#                         dist = abs(res_i['CA'] - res_j['CA'])\n",
    "                        \n",
    "                        chain_I_offset = nres*chain_dict.get(chain_I.id)\n",
    "                        chain_J_offset = nres*chain_dict.get(chain_J.id)\n",
    "#                         if (chain_I.id == 'E' and chain_J.id == 'D'):\n",
    "                        target.write(\"%d\\t%d\\n\" % (i + chain_I_offset, j + chain_J_offset))\n",
    "\n",
    "                        total_generated += 1\n",
    "\n",
    "        except TypeError:\n",
    "            print(\"\\n** TypeError encountered: **\")\n",
    "            print(\"   CHAINS %s and %s DO NOT EXIST or CANNOT BE ACCESSED.\" \n",
    "                  % (chain_I.id, chain_J.id))\n",
    "            \n",
    "    target.close()\n",
    "    print(\"DCA pairs: %d\" % total_dca_pairs)\n",
    "    print(\"CHAINS: %d\" % nchain)\n",
    "    print(\"ACTUAL   symmetrized DCA pairs: %d\" % total_generated)\n",
    "    print(\"EXPECTED symmetrized DCA pairs: %d\\n\" % expected_pairs)\n"
   ]
  },
  {
   "cell_type": "markdown",
   "metadata": {},
   "source": [
    "[Back to Overview](#Overview)"
   ]
  },
  {
   "cell_type": "markdown",
   "metadata": {
    "collapsed": false
   },
   "source": [
    "## Run function"
   ]
  },
  {
   "cell_type": "code",
   "execution_count": 39,
   "metadata": {
    "collapsed": false
   },
   "outputs": [
    {
     "name": "stdout",
     "output_type": "stream",
     "text": [
      "DCA pairs: 10\n",
      "CHAINS: 9\n",
      "ACTUAL   symmetrized DCA pairs: 720\n",
      "EXPECTED symmetrized DCA pairs: 720\n",
      "\n"
     ]
    }
   ],
   "source": [
    "total_dca_pairs = 10\n",
    "genInterfaceDCA(dca_contacts, total_dca_pairs, nres=371)"
   ]
  },
  {
   "cell_type": "code",
   "execution_count": null,
   "metadata": {
    "collapsed": false
   },
   "outputs": [],
   "source": []
  },
  {
   "cell_type": "markdown",
   "metadata": {
    "collapsed": true
   },
   "source": [
    "[Back to Overview](#Overview)"
   ]
  },
  {
   "cell_type": "code",
   "execution_count": null,
   "metadata": {
    "collapsed": false
   },
   "outputs": [],
   "source": [
    "# Testing\n",
    "p2 = PDBParser(PERMISSIVE=1)\n",
    "structure2 = p2.get_structure(pdbID, pdb_file)\n",
    "chains2 = structure2.get_chains()\n",
    "chain_num = {'A':0, 'B':1, 'C':2, 'D':3, 'E':4, 'F':5, 'G':6, 'H':7, 'I':8}\n",
    "for i in tuple(chains2)[0:2]:\n",
    "    resi=i[150]\n",
    "    print resi.id[1]"
   ]
  },
  {
   "cell_type": "code",
   "execution_count": null,
   "metadata": {
    "collapsed": true
   },
   "outputs": [],
   "source": []
  },
  {
   "cell_type": "code",
   "execution_count": null,
   "metadata": {
    "collapsed": true
   },
   "outputs": [],
   "source": []
  },
  {
   "cell_type": "code",
   "execution_count": null,
   "metadata": {
    "collapsed": true
   },
   "outputs": [],
   "source": []
  },
  {
   "cell_type": "code",
   "execution_count": null,
   "metadata": {
    "collapsed": false
   },
   "outputs": [],
   "source": []
  },
  {
   "cell_type": "code",
   "execution_count": null,
   "metadata": {
    "collapsed": false
   },
   "outputs": [],
   "source": []
  },
  {
   "cell_type": "code",
   "execution_count": null,
   "metadata": {
    "collapsed": true
   },
   "outputs": [],
   "source": []
  }
 ],
 "metadata": {
  "kernelspec": {
   "display_name": "Python 2",
   "language": "python",
   "name": "python2"
  },
  "language_info": {
   "codemirror_mode": {
    "name": "ipython",
    "version": 2
   },
   "file_extension": ".py",
   "mimetype": "text/x-python",
   "name": "python",
   "nbconvert_exporter": "python",
   "pygments_lexer": "ipython2",
   "version": "2.7.13"
  }
 },
 "nbformat": 4,
 "nbformat_minor": 2
}
