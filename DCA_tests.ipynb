{
 "cells": [
  {
   "cell_type": "code",
   "execution_count": 169,
   "metadata": {
    "collapsed": false
   },
   "outputs": [
    {
     "data": {
      "text/plain": [
       "'1.13.3'"
      ]
     },
     "execution_count": 169,
     "metadata": {},
     "output_type": "execute_result"
    }
   ],
   "source": [
    "import numpy as np\n",
    "import pandas as pd\n",
    "from bokeh.plotting import figure, show, output_notebook\n",
    "# from bokeh.charts import Scatter, output_file, show\n",
    "from bkcharts import Scatter, output_file, show\n",
    "from bokeh.palettes import *\n",
    "from bokeh.layouts import gridplot\n",
    "from bokeh.models import HoverTool\n",
    "np.__version__"
   ]
  },
  {
   "cell_type": "markdown",
   "metadata": {},
   "source": [
    "### Overview"
   ]
  },
  {
   "cell_type": "markdown",
   "metadata": {},
   "source": [
    "- [Match Contacts Function](#Match-Contacts-Function)\n",
    "- [Output Ratio Function](#Output-Ratio-Function)\n",
    "- [Plot Ratio Function](#Plot-Ratio-Function)\n",
    "- [Main Function](#Main-Function)"
   ]
  },
  {
   "cell_type": "markdown",
   "metadata": {},
   "source": [
    "### Load files into DataFrames"
   ]
  },
  {
   "cell_type": "code",
   "execution_count": 163,
   "metadata": {
    "collapsed": false
   },
   "outputs": [],
   "source": [
    "pdb_file_1 = \"/home/kmm5/actin/sbm/pdb_maps_12A/cutoff/all_pdb_monomer_12A.contacts\"\n",
    "pdb_file_2 = \"/home/kmm5/actin/sbm/pdb_maps_12A/cutoff/all_pdb_interface_12A.contacts\"\n",
    "# dca_file_1 = \"/home/kmm5/actin/plmDCA/pfam/pfam30/act_pfam_f10_mapped.contacts\"\n",
    "# dca_file_2 = \"/home/kmm5/actin/plmDCA/pfam/pfam30/act_pfam_f20_mapped.contacts\"\n",
    "# dca_file_3 = \"/home/kmm5/actin/plmDCA/pfam/pfam30/act_pfam_f50_mapped.contacts\"\n",
    "dca_file_1 = \"/home/kmm5/actin/plmDCA/pfam/pfam31/mapped_act_pfam31_f10.contacts\"\n",
    "dca_file_2 = \"/home/kmm5/actin/plmDCA/pfam/pfam31/mapped_act_pfam31_f20.contacts\"\n",
    "dca_file_3 = \"/home/kmm5/actin/plmDCA/pfam/pfam31/mapped_act_pfam31_f30.contacts\"\n",
    "dca_file_4 = \"/home/kmm5/actin/plmDCA/pfam/pfam31/mapped_act_pfam31_f40.contacts\"\n",
    "dca_file_5 = \"/home/kmm5/actin/plmDCA/pfam/pfam31/mapped_act_pfam31_f50.contacts\"\n",
    "dca_file_6 = \"/home/kmm5/actin/plmDCA/cytoplasm/from_actin-actin_subseq/cyt_oda_mapped.contacts\"\n",
    "indices = ['residue_i', 'residue_j']\n",
    "monomer_pdb = pd.read_table(pdb_file_1, delim_whitespace=True, names=indices)\n",
    "interface_pdb = pd.read_table(pdb_file_2, delim_whitespace=True, names=indices)\n",
    "\n",
    "dca_pairs_f10 = pd.read_table(dca_file_1, delim_whitespace=True, names=indices)\n",
    "dca_pairs_f20 = pd.read_table(dca_file_2, delim_whitespace=True, names=indices)\n",
    "dca_pairs_f30 = pd.read_table(dca_file_3, delim_whitespace=True, names=indices)\n",
    "dca_pairs_f40 = pd.read_table(dca_file_4, delim_whitespace=True, names=indices)\n",
    "dca_pairs_f50 = pd.read_table(dca_file_5, delim_whitespace=True, names=indices)\n",
    "dca_pairs_actx2 = pd.read_table(dca_file_6, delim_whitespace=True, names=indices)\n",
    "dca_dataframes = [dca_pairs_f10, dca_pairs_f20, dca_pairs_f30, dca_pairs_f40, \n",
    "                  dca_pairs_f50, dca_pairs_actx2]"
   ]
  },
  {
   "cell_type": "code",
   "execution_count": 164,
   "metadata": {
    "collapsed": false
   },
   "outputs": [
    {
     "name": "stdout",
     "output_type": "stream",
     "text": [
      "Total Monomer pairs: 15965\n",
      "Total Inter pairs  : 3141\n",
      "Total DCA pairs    : 65014\n"
     ]
    }
   ],
   "source": [
    "total_mon_pairs = len(monomer_pdb)\n",
    "total_inter_pairs = len(interface_pdb)\n",
    "total_dca_pairs = len(dca_dataframes[0])\n",
    "print(\"Total Monomer pairs: %d\" % total_mon_pairs)\n",
    "print(\"Total Inter pairs  : %d\" % total_inter_pairs)\n",
    "print(\"Total DCA pairs    : %d\" % total_dca_pairs)"
   ]
  },
  {
   "cell_type": "markdown",
   "metadata": {},
   "source": [
    "### Match Contacts Function"
   ]
  },
  {
   "cell_type": "markdown",
   "metadata": {},
   "source": [
    "[Back to Overview](#Overview)"
   ]
  },
  {
   "cell_type": "code",
   "execution_count": 160,
   "metadata": {
    "collapsed": false
   },
   "outputs": [],
   "source": [
    "def matchContacts(dca_pairs, monomer_pdb, interface_pdb, num_top_dca):\n",
    "    \"\"\"\n",
    "    Given a DataFrame of residue pairs, this \n",
    "    function computes the intersection between\n",
    "    given monomer and interfacial pairs (which\n",
    "    are also DataFrames). A ratio of the number\n",
    "    of interface to monomer intersections is\n",
    "    returned.\n",
    "    \"\"\"\n",
    "    top_dca_pairs = dca_pairs[:num_top_dca]\n",
    "    monomer_match = pd.merge(top_dca_pairs, monomer_pdb, \n",
    "                             how='inner', on=indices)\n",
    "    num_monomer_match = len(monomer_match)\n",
    "    interface_match = pd.merge(top_dca_pairs, interface_pdb, \n",
    "                               how='inner', on=indices)\n",
    "    num_interface_match = len(interface_match)\n",
    "    # avoids dividing by zero\n",
    "    z_factor = 0.0001\n",
    "    ratio = float(num_interface_match) / float(num_monomer_match + z_factor)\n",
    "\n",
    "#     print(\"Monomer matches: %d\" % num_monomer_match)\n",
    "#     print(\"Interface matches: %d\" % num_interface_match)\n",
    "#     print(\"IM Ratio = %.3f\" % ratio)\n",
    "    return ratio"
   ]
  },
  {
   "cell_type": "code",
   "execution_count": 161,
   "metadata": {
    "collapsed": false
   },
   "outputs": [
    {
     "data": {
      "text/plain": [
       "0.0"
      ]
     },
     "execution_count": 161,
     "metadata": {},
     "output_type": "execute_result"
    }
   ],
   "source": [
    "matchContacts(dca_dataframes[0], monomer_pdb, interface_pdb, 1)"
   ]
  },
  {
   "cell_type": "markdown",
   "metadata": {},
   "source": [
    "### Output Ratio Function"
   ]
  },
  {
   "cell_type": "markdown",
   "metadata": {},
   "source": [
    "[Back to Overview](#Overview)"
   ]
  },
  {
   "cell_type": "code",
   "execution_count": 165,
   "metadata": {
    "collapsed": false
   },
   "outputs": [],
   "source": [
    "def outputRatio(dca_dataframes, monomer_pdb, interface_pdb, num_top_dca):\n",
    "    \"\"\" \n",
    "    Given a list of DataFrames, this function calls\n",
    "    the matchContacts() function to compute ratios and\n",
    "    returns an array of ratios of shape(len(df),N).\n",
    "    \"\"\"\n",
    "    num_df = len(dca_dataframes)\n",
    "    ratio = np.zeros((num_df, num_top_dca))\n",
    "    for df in range(num_df):\n",
    "        for i in range(num_top_dca):\n",
    "            if (i == 0):\n",
    "                ratio[df][0] = 0.0\n",
    "            else:    \n",
    "                ratio[df][i] = matchContacts(\n",
    "                    dca_dataframes[df], monomer_pdb, interface_pdb, i\n",
    "                )\n",
    "    return ratio"
   ]
  },
  {
   "cell_type": "markdown",
   "metadata": {},
   "source": [
    "### Plot Ratio Function"
   ]
  },
  {
   "cell_type": "markdown",
   "metadata": {},
   "source": [
    "[Back to Overview](#Overview)"
   ]
  },
  {
   "cell_type": "code",
   "execution_count": 174,
   "metadata": {
    "collapsed": false
   },
   "outputs": [],
   "source": [
    "def plotRatio(ratio_array, x_range):\n",
    "    \"\"\"\n",
    "    Plots the ratios given an array of\n",
    "    len(ratio_array) and an x-axis range.\n",
    "    \"\"\"\n",
    "    num_files = len(ratio_array)\n",
    "    color_list = Set1_9\n",
    "    \n",
    "    hover = HoverTool(tooltips=[('Top Pairs, IMatch Ratio', '$x{0}, $y{0.00}')])\n",
    "    TOOLS = \"crosshair, pan, wheel_zoom, reset, save, box_select\"\n",
    "    p = figure(width=800, plot_height=400, \n",
    "              tools=[TOOLS, hover], toolbar_location=\"above\",\n",
    "              x_axis_label='Top DCA pairs', \n",
    "              y_axis_label='IMatch Ratio (Inter:Mon)')\n",
    "    \n",
    "    for i in range(num_files):   \n",
    "        p.line(range(x_range), ratio_array[i], color=color_list[i],\n",
    "               legend=('f%d'%(10+10*i)), line_width=1.25)\n",
    "    p.background_fill_color='beige'\n",
    "    p.xgrid.grid_line_color = 'navy'\n",
    "    p.xgrid.grid_line_dash = 'dashed'\n",
    "    p.xgrid.grid_line_alpha = 0.1\n",
    "    p.ygrid.band_fill_alpha = 0.1\n",
    "    p.ygrid.band_fill_color = \"navy\"\n",
    "    p.legend.location='bottom_right'\n",
    "    p.legend.orientation='horizontal'\n",
    "    p.legend.click_policy='hide'\n",
    "    output_notebook()\n",
    "    show(p)"
   ]
  },
  {
   "cell_type": "markdown",
   "metadata": {},
   "source": [
    "### Main Function"
   ]
  },
  {
   "cell_type": "markdown",
   "metadata": {},
   "source": [
    "[Back to Overview](#Overview)"
   ]
  },
  {
   "cell_type": "code",
   "execution_count": null,
   "metadata": {
    "collapsed": false
   },
   "outputs": [],
   "source": [
    "N = 4000\n",
    "r = outputRatio(dca_dataframes, monomer_pdb, interface_pdb, N)"
   ]
  },
  {
   "cell_type": "code",
   "execution_count": 175,
   "metadata": {
    "collapsed": false
   },
   "outputs": [
    {
     "data": {
      "text/html": [
       "\n",
       "    <div class=\"bk-root\">\n",
       "        <a href=\"http://bokeh.pydata.org\" target=\"_blank\" class=\"bk-logo bk-logo-small bk-logo-notebook\"></a>\n",
       "        <span id=\"577753d2-acda-4583-84f1-fdf6cd277e8d\">Loading BokehJS ...</span>\n",
       "    </div>"
      ]
     },
     "metadata": {},
     "output_type": "display_data"
    },
    {
     "data": {
      "application/javascript": [
       "\n",
       "(function(global) {\n",
       "  function now() {\n",
       "    return new Date();\n",
       "  }\n",
       "\n",
       "  var force = true;\n",
       "\n",
       "  if (typeof (window._bokeh_onload_callbacks) === \"undefined\" || force === true) {\n",
       "    window._bokeh_onload_callbacks = [];\n",
       "    window._bokeh_is_loading = undefined;\n",
       "  }\n",
       "\n",
       "\n",
       "  \n",
       "  if (typeof (window._bokeh_timeout) === \"undefined\" || force === true) {\n",
       "    window._bokeh_timeout = Date.now() + 5000;\n",
       "    window._bokeh_failed_load = false;\n",
       "  }\n",
       "\n",
       "  var NB_LOAD_WARNING = {'data': {'text/html':\n",
       "     \"<div style='background-color: #fdd'>\\n\"+\n",
       "     \"<p>\\n\"+\n",
       "     \"BokehJS does not appear to have successfully loaded. If loading BokehJS from CDN, this \\n\"+\n",
       "     \"may be due to a slow or bad network connection. Possible fixes:\\n\"+\n",
       "     \"</p>\\n\"+\n",
       "     \"<ul>\\n\"+\n",
       "     \"<li>re-rerun `output_notebook()` to attempt to load from CDN again, or</li>\\n\"+\n",
       "     \"<li>use INLINE resources instead, as so:</li>\\n\"+\n",
       "     \"</ul>\\n\"+\n",
       "     \"<code>\\n\"+\n",
       "     \"from bokeh.resources import INLINE\\n\"+\n",
       "     \"output_notebook(resources=INLINE)\\n\"+\n",
       "     \"</code>\\n\"+\n",
       "     \"</div>\"}};\n",
       "\n",
       "  function display_loaded() {\n",
       "    if (window.Bokeh !== undefined) {\n",
       "      var el = document.getElementById(\"577753d2-acda-4583-84f1-fdf6cd277e8d\");\n",
       "      el.textContent = \"BokehJS \" + Bokeh.version + \" successfully loaded.\";\n",
       "    } else if (Date.now() < window._bokeh_timeout) {\n",
       "      setTimeout(display_loaded, 100)\n",
       "    }\n",
       "  }\n",
       "\n",
       "  function run_callbacks() {\n",
       "    try {\n",
       "      window._bokeh_onload_callbacks.forEach(function(callback) { callback() });\n",
       "    }\n",
       "    finally {\n",
       "      delete window._bokeh_onload_callbacks\n",
       "    }\n",
       "    console.info(\"Bokeh: all callbacks have finished\");\n",
       "  }\n",
       "\n",
       "  function load_libs(js_urls, callback) {\n",
       "    window._bokeh_onload_callbacks.push(callback);\n",
       "    if (window._bokeh_is_loading > 0) {\n",
       "      console.log(\"Bokeh: BokehJS is being loaded, scheduling callback at\", now());\n",
       "      return null;\n",
       "    }\n",
       "    if (js_urls == null || js_urls.length === 0) {\n",
       "      run_callbacks();\n",
       "      return null;\n",
       "    }\n",
       "    console.log(\"Bokeh: BokehJS not loaded, scheduling load and callback at\", now());\n",
       "    window._bokeh_is_loading = js_urls.length;\n",
       "    for (var i = 0; i < js_urls.length; i++) {\n",
       "      var url = js_urls[i];\n",
       "      var s = document.createElement('script');\n",
       "      s.src = url;\n",
       "      s.async = false;\n",
       "      s.onreadystatechange = s.onload = function() {\n",
       "        window._bokeh_is_loading--;\n",
       "        if (window._bokeh_is_loading === 0) {\n",
       "          console.log(\"Bokeh: all BokehJS libraries loaded\");\n",
       "          run_callbacks()\n",
       "        }\n",
       "      };\n",
       "      s.onerror = function() {\n",
       "        console.warn(\"failed to load library \" + url);\n",
       "      };\n",
       "      console.log(\"Bokeh: injecting script tag for BokehJS library: \", url);\n",
       "      document.getElementsByTagName(\"head\")[0].appendChild(s);\n",
       "    }\n",
       "  };var element = document.getElementById(\"577753d2-acda-4583-84f1-fdf6cd277e8d\");\n",
       "  if (element == null) {\n",
       "    console.log(\"Bokeh: ERROR: autoload.js configured with elementid '577753d2-acda-4583-84f1-fdf6cd277e8d' but no matching script tag was found. \")\n",
       "    return false;\n",
       "  }\n",
       "\n",
       "  var js_urls = [\"https://cdn.pydata.org/bokeh/release/bokeh-0.12.6.min.js\", \"https://cdn.pydata.org/bokeh/release/bokeh-widgets-0.12.6.min.js\"];\n",
       "\n",
       "  var inline_js = [\n",
       "    function(Bokeh) {\n",
       "      Bokeh.set_log_level(\"info\");\n",
       "    },\n",
       "    \n",
       "    function(Bokeh) {\n",
       "      \n",
       "    },\n",
       "    \n",
       "    function(Bokeh) {\n",
       "      \n",
       "      document.getElementById(\"577753d2-acda-4583-84f1-fdf6cd277e8d\").textContent = \"BokehJS is loading...\";\n",
       "    },\n",
       "    function(Bokeh) {\n",
       "      console.log(\"Bokeh: injecting CSS: https://cdn.pydata.org/bokeh/release/bokeh-0.12.6.min.css\");\n",
       "      Bokeh.embed.inject_css(\"https://cdn.pydata.org/bokeh/release/bokeh-0.12.6.min.css\");\n",
       "      console.log(\"Bokeh: injecting CSS: https://cdn.pydata.org/bokeh/release/bokeh-widgets-0.12.6.min.css\");\n",
       "      Bokeh.embed.inject_css(\"https://cdn.pydata.org/bokeh/release/bokeh-widgets-0.12.6.min.css\");\n",
       "    }\n",
       "  ];\n",
       "\n",
       "  function run_inline_js() {\n",
       "    \n",
       "    if ((window.Bokeh !== undefined) || (force === true)) {\n",
       "      for (var i = 0; i < inline_js.length; i++) {\n",
       "        inline_js[i](window.Bokeh);\n",
       "      }if (force === true) {\n",
       "        display_loaded();\n",
       "      }} else if (Date.now() < window._bokeh_timeout) {\n",
       "      setTimeout(run_inline_js, 100);\n",
       "    } else if (!window._bokeh_failed_load) {\n",
       "      console.log(\"Bokeh: BokehJS failed to load within specified timeout.\");\n",
       "      window._bokeh_failed_load = true;\n",
       "    } else if (force !== true) {\n",
       "      var cell = $(document.getElementById(\"577753d2-acda-4583-84f1-fdf6cd277e8d\")).parents('.cell').data().cell;\n",
       "      cell.output_area.append_execute_result(NB_LOAD_WARNING)\n",
       "    }\n",
       "\n",
       "  }\n",
       "\n",
       "  if (window._bokeh_is_loading === 0) {\n",
       "    console.log(\"Bokeh: BokehJS loaded, going straight to plotting\");\n",
       "    run_inline_js();\n",
       "  } else {\n",
       "    load_libs(js_urls, function() {\n",
       "      console.log(\"Bokeh: BokehJS plotting callback run at\", now());\n",
       "      run_inline_js();\n",
       "    });\n",
       "  }\n",
       "}(this));"
      ]
     },
     "metadata": {},
     "output_type": "display_data"
    },
    {
     "data": {
      "text/html": [
       "\n",
       "\n",
       "    <div class=\"bk-root\">\n",
       "        <div class=\"bk-plotdiv\" id=\"b5016c62-ca6c-4db0-adae-da16d99cc5ef\"></div>\n",
       "    </div>\n",
       "<script type=\"text/javascript\">\n",
       "  \n",
       "  (function(global) {\n",
       "    function now() {\n",
       "      return new Date();\n",
       "    }\n",
       "  \n",
       "    var force = false;\n",
       "  \n",
       "    if (typeof (window._bokeh_onload_callbacks) === \"undefined\" || force === true) {\n",
       "      window._bokeh_onload_callbacks = [];\n",
       "      window._bokeh_is_loading = undefined;\n",
       "    }\n",
       "  \n",
       "  \n",
       "    \n",
       "    if (typeof (window._bokeh_timeout) === \"undefined\" || force === true) {\n",
       "      window._bokeh_timeout = Date.now() + 0;\n",
       "      window._bokeh_failed_load = false;\n",
       "    }\n",
       "  \n",
       "    var NB_LOAD_WARNING = {'data': {'text/html':\n",
       "       \"<div style='background-color: #fdd'>\\n\"+\n",
       "       \"<p>\\n\"+\n",
       "       \"BokehJS does not appear to have successfully loaded. If loading BokehJS from CDN, this \\n\"+\n",
       "       \"may be due to a slow or bad network connection. Possible fixes:\\n\"+\n",
       "       \"</p>\\n\"+\n",
       "       \"<ul>\\n\"+\n",
       "       \"<li>re-rerun `output_notebook()` to attempt to load from CDN again, or</li>\\n\"+\n",
       "       \"<li>use INLINE resources instead, as so:</li>\\n\"+\n",
       "       \"</ul>\\n\"+\n",
       "       \"<code>\\n\"+\n",
       "       \"from bokeh.resources import INLINE\\n\"+\n",
       "       \"output_notebook(resources=INLINE)\\n\"+\n",
       "       \"</code>\\n\"+\n",
       "       \"</div>\"}};\n",
       "  \n",
       "    function display_loaded() {\n",
       "      if (window.Bokeh !== undefined) {\n",
       "        var el = document.getElementById(\"b5016c62-ca6c-4db0-adae-da16d99cc5ef\");\n",
       "        el.textContent = \"BokehJS \" + Bokeh.version + \" successfully loaded.\";\n",
       "      } else if (Date.now() < window._bokeh_timeout) {\n",
       "        setTimeout(display_loaded, 100)\n",
       "      }\n",
       "    }\n",
       "  \n",
       "    function run_callbacks() {\n",
       "      try {\n",
       "        window._bokeh_onload_callbacks.forEach(function(callback) { callback() });\n",
       "      }\n",
       "      finally {\n",
       "        delete window._bokeh_onload_callbacks\n",
       "      }\n",
       "      console.info(\"Bokeh: all callbacks have finished\");\n",
       "    }\n",
       "  \n",
       "    function load_libs(js_urls, callback) {\n",
       "      window._bokeh_onload_callbacks.push(callback);\n",
       "      if (window._bokeh_is_loading > 0) {\n",
       "        console.log(\"Bokeh: BokehJS is being loaded, scheduling callback at\", now());\n",
       "        return null;\n",
       "      }\n",
       "      if (js_urls == null || js_urls.length === 0) {\n",
       "        run_callbacks();\n",
       "        return null;\n",
       "      }\n",
       "      console.log(\"Bokeh: BokehJS not loaded, scheduling load and callback at\", now());\n",
       "      window._bokeh_is_loading = js_urls.length;\n",
       "      for (var i = 0; i < js_urls.length; i++) {\n",
       "        var url = js_urls[i];\n",
       "        var s = document.createElement('script');\n",
       "        s.src = url;\n",
       "        s.async = false;\n",
       "        s.onreadystatechange = s.onload = function() {\n",
       "          window._bokeh_is_loading--;\n",
       "          if (window._bokeh_is_loading === 0) {\n",
       "            console.log(\"Bokeh: all BokehJS libraries loaded\");\n",
       "            run_callbacks()\n",
       "          }\n",
       "        };\n",
       "        s.onerror = function() {\n",
       "          console.warn(\"failed to load library \" + url);\n",
       "        };\n",
       "        console.log(\"Bokeh: injecting script tag for BokehJS library: \", url);\n",
       "        document.getElementsByTagName(\"head\")[0].appendChild(s);\n",
       "      }\n",
       "    };var element = document.getElementById(\"b5016c62-ca6c-4db0-adae-da16d99cc5ef\");\n",
       "    if (element == null) {\n",
       "      console.log(\"Bokeh: ERROR: autoload.js configured with elementid 'b5016c62-ca6c-4db0-adae-da16d99cc5ef' but no matching script tag was found. \")\n",
       "      return false;\n",
       "    }\n",
       "  \n",
       "    var js_urls = [];\n",
       "  \n",
       "    var inline_js = [\n",
       "      function(Bokeh) {\n",
       "        (function() {\n",
       "          var fn = function() {\n",
       "            var docs_json = {\"d6f660bb-f083-453f-b8c5-44aee325e4e1\":{\"roots\":{\"references\":[{\"attributes\":{\"label\":{\"value\":\"f60\"},\"renderers\":[{\"id\":\"d58b5f88-8ece-4ebc-9c1a-7a4a586e026e\",\"type\":\"GlyphRenderer\"}]},\"id\":\"9afb65cd-e0bc-4275-840e-e5431d176962\",\"type\":\"LegendItem\"},{\"attributes\":{\"callback\":null},\"id\":\"e626a096-1ae8-4239-8599-17db0a09579f\",\"type\":\"DataRange1d\"},{\"attributes\":{\"bottom_units\":\"screen\",\"fill_alpha\":{\"value\":0.5},\"fill_color\":{\"value\":\"lightgrey\"},\"left_units\":\"screen\",\"level\":\"overlay\",\"line_alpha\":{\"value\":1.0},\"line_color\":{\"value\":\"black\"},\"line_dash\":[4,4],\"line_width\":{\"value\":2},\"plot\":null,\"render_mode\":\"css\",\"right_units\":\"screen\",\"top_units\":\"screen\"},\"id\":\"563de46c-8e70-452d-81b5-3346780409c4\",\"type\":\"BoxAnnotation\"},{\"attributes\":{\"label\":{\"value\":\"f50\"},\"renderers\":[{\"id\":\"6d395ffb-e7fa-4fa5-ad43-239c8fce5c51\",\"type\":\"GlyphRenderer\"}]},\"id\":\"0b0a76e6-68a9-4202-aa09-83e5fc6d8052\",\"type\":\"LegendItem\"},{\"attributes\":{\"band_fill_alpha\":{\"value\":0.1},\"band_fill_color\":{\"value\":\"navy\"},\"dimension\":1,\"plot\":{\"id\":\"2644efdd-fff5-4f16-a25a-f78b36a24e43\",\"subtype\":\"Figure\",\"type\":\"Plot\"},\"ticker\":{\"id\":\"facd5533-ed62-41cf-a100-f71bc7c47922\",\"type\":\"BasicTicker\"}},\"id\":\"210d2eae-4749-4cc5-acf7-6e5ef4ada39f\",\"type\":\"Grid\"},{\"attributes\":{\"label\":{\"value\":\"f10\"},\"renderers\":[{\"id\":\"6980505e-411f-490d-95c4-2848938d0ac7\",\"type\":\"GlyphRenderer\"}]},\"id\":\"3e354117-ac8f-4a5b-a011-595a0ada4836\",\"type\":\"LegendItem\"},{\"attributes\":{\"label\":{\"value\":\"f40\"},\"renderers\":[{\"id\":\"b9c0c9a5-a0fb-4a8b-b9a1-ac2f60050ffe\",\"type\":\"GlyphRenderer\"}]},\"id\":\"fb7f9d46-d24e-4436-8757-618057ee7283\",\"type\":\"LegendItem\"},{\"attributes\":{\"callback\":null,\"column_names\":[\"x\",\"y\"],\"data\":{\"x\":[0,1,2,3,4,5,6,7,8,9,10,11,12,13,14,15,16,17,18,19,20,21,22,23,24,25,26,27,28,29,30,31,32,33,34,35,36,37,38,39,40,41,42,43,44,45,46,47,48,49,50,51,52,53,54,55,56,57,58,59,60,61,62,63,64,65,66,67,68,69,70,71,72,73,74,75,76,77,78,79,80,81,82,83,84,85,86,87,88,89,90,91,92,93,94,95,96,97,98,99,100,101,102,103,104,105,106,107,108,109,110,111,112,113,114,115,116,117,118,119,120,121,122,123,124,125,126,127,128,129,130,131,132,133,134,135,136,137,138,139,140,141,142,143,144,145,146,147,148,149,150,151,152,153,154,155,156,157,158,159,160,161,162,163,164,165,166,167,168,169,170,171,172,173,174,175,176,177,178,179,180,181,182,183,184,185,186,187,188,189,190,191,192,193,194,195,196,197,198,199],\"y\":{\"__ndarray__\":\"AAAAAAAAAAAAAAAAAAAAAAAAAAAAAAAAAAAAAAAAAAAAAAAAAAAAAAAAAAAAAAAAAAAAAAAAAAAAAAAAAAAAAAAAAAAAAAAAAAAAAAAAAAAAAAAAAAAAAAAAAAAAAAAAAAAAAAAAAAAAAAAAAAAAAAAAAAAAAAAAAAAAAAAAAAAAAAAAAAAAAAAAAAAAAAAAAAAAAAAAAAAAAAAAAAAAAAAAAAAAAAAAAAAAAAAAAAAAAAAAAAAAAAAAAAAAAAAAAAAAAAAAAAAAAAAAAAAAAAAAAAAAAAAAAAAAAAAAAAAAAAAAAAAAAAAAAAAAAAAAAAAAAAAAAAAAAAAAAAAAAAAAAAAAAAAAAAAAAAAAAAAAAAAAAAAAAAAAAAAAAAAAAAAAAAAAAAAAAAAAAAAAAAAAAAAAAAAAAAAAAAAAAAAAAAAAAAAAAAAAAAAAAAAAAAAAAAAAAAAAAAAAAAAAAAAAAAAAAAAAAAAAAAAAAAAAAAAAAAAAAAAAAAAAAAAAAAAAAAAAAAAAAAAAAAAAAAAAAAAAAAAAqqDkFoLymj9kc7+wn0GaP2Rzv7CfQZo/V2HcZ5WZmT+V/JuRvfmYP7vAd0qCYZg/u8B3SoJhmD9YwligW9CXP1jCWKBb0Jc/hcj5/M1Flz8+bF7GaMGWPz5sXsZowZY/PmxexmjBlj/GZCQtxUKWP9rE2iGFyZU/rkuua1JVlT+uS65rUlWVP4nHp9vd5ZQ/R5J8mN56lD9HknyY3nqkP0eSfJjeeqQ/Ts+RfxEUpD/85FeYOLGjPwbwkZcaUqM/BvCRlxpSoz/+0nhwgvaiP6he9vE+nqI/qF728T6eoj8vkHVuIkmiP30z+2wC96E/fTP7bAL3oT99M/tsAvehP6MbaGK3p6E/oxtoYrenoT+RBu1xHFuhP5EG7XEcW6E/kQbtcRxboT+RBu1xHFuhP5EG7XEcW6E/x0/ZMw8RoT8swwmCb8mgP+T3VEkfhKA/gEBnXwJBoD+AQGdfAkGgP4L4I7n8/58/G71C8vSBnz8bvULy9IGfPxu9QvL0gZ8/G71C8vSBnz8bvULy9IGfP8Hqsdu+B58/r0qFri6Rnj/geAs3Gx6eP+y3CKVdrp0/7LcIpV2unT/stwilXa6dP+y3CKVdrp0/hvsJYNFBnT9D0WjfU9icPwlLpIXEcZw/mB+9fgQOnD9kDUyh9qybP/5TEVJ/Tps//lMRUn9Omz/+UxFSf06bP530wmmE8po/nfTCaYTymj8IeeUc7ZiaP0xcgOWhQZo/TFyA5aFBmj838INujOyZPzfwg26M7Jk/N/CDbozsmT838INujOyZP37RuoCXmZk/b7sk8a5ImT/x4ZuQv/mYP5rxqBy3rJg/bH1sMYRhmD9VAYc8FhiYP1UBhzwWGJg/VQGHPBYYmD+/wOpwXdCXPyywhLtKipc/2k6ruM9Flz/53kOq3gKXP/neQ6reApc/+d5Dqt4Clz/53kOq3gKXP0fNj25qwZY/JliVd2aBlj8qphfDxkKWP1uAE9N/BZY/fM+2pobJlT+80Mmz0I6VPw63geBTVZU/lx21fQYdlT+XHbV9Bh2VP5cdtX0GHZU/dU5rQd/llD/Z8b9B1a+UP9nxv0HVr5Q/3DwV8N96lD85L48U90aUP3nc0skSFJQ/sSAFeSvikz8DfATWObGTPwN8BNY5sZM/A3wE1jmxkz8DfATWObGTP2wj2ts2gZM/fKFeyRtSkz95pw4e4iOTP3mnDh7iI5M/U+8Ml4P2kj9T7wyXg/aSP1PvDJeD9pI/fklOLPrJkj+4J+0NQJ6SP7gn7Q1AnpI/OyeioU9zkj87J6KhT3OSPzsnoqFPc5I/OyeioU9zkj9ZSl+AI0mSP4S7C3S2H5I/RBpedQP3kT9EGl51A/eRP0QaXnUD95E/RBpedQP3kT86dtOpBc+RPzp206kFz5E/OnbTqQXPkT8vPcFhuKeRP1l/gBYXgZE/WX+AFheBkT9Zf4AWF4GRPxsJsWgdW5E/W+uSHsc1kT9kI3UiEBGRP48pOIH07JA/jyk4gfTskD+PKTiB9OyQP01C42hwyZA/XYBLJ4CmkD9leMsoIISQP2V4yygghJA/ZXjLKCCEkD9leMsoIISQPw==\",\"dtype\":\"float64\",\"shape\":[200]}}},\"id\":\"cf914852-f658-4836-a7ae-b1027cf32c55\",\"type\":\"ColumnDataSource\"},{\"attributes\":{},\"id\":\"facd5533-ed62-41cf-a100-f71bc7c47922\",\"type\":\"BasicTicker\"},{\"attributes\":{\"background_fill_color\":{\"value\":\"beige\"},\"below\":[{\"id\":\"bcfe4745-16b7-44ff-8f00-ceb74fdca9e2\",\"type\":\"LinearAxis\"}],\"left\":[{\"id\":\"fa29d185-159c-49e9-af5d-9fadf70c9d85\",\"type\":\"LinearAxis\"}],\"plot_height\":400,\"plot_width\":800,\"renderers\":[{\"id\":\"bcfe4745-16b7-44ff-8f00-ceb74fdca9e2\",\"type\":\"LinearAxis\"},{\"id\":\"71c6794d-f881-4876-b07c-08d90440f798\",\"type\":\"Grid\"},{\"id\":\"fa29d185-159c-49e9-af5d-9fadf70c9d85\",\"type\":\"LinearAxis\"},{\"id\":\"210d2eae-4749-4cc5-acf7-6e5ef4ada39f\",\"type\":\"Grid\"},{\"id\":\"563de46c-8e70-452d-81b5-3346780409c4\",\"type\":\"BoxAnnotation\"},{\"id\":\"04b80a03-1242-47fc-961a-f239bde4293f\",\"type\":\"Legend\"},{\"id\":\"6980505e-411f-490d-95c4-2848938d0ac7\",\"type\":\"GlyphRenderer\"},{\"id\":\"d2c366cf-f9fd-41b0-9f45-93b3387312c8\",\"type\":\"GlyphRenderer\"},{\"id\":\"cdf36230-fb5a-4970-b098-1098e9b4a082\",\"type\":\"GlyphRenderer\"},{\"id\":\"b9c0c9a5-a0fb-4a8b-b9a1-ac2f60050ffe\",\"type\":\"GlyphRenderer\"},{\"id\":\"6d395ffb-e7fa-4fa5-ad43-239c8fce5c51\",\"type\":\"GlyphRenderer\"},{\"id\":\"d58b5f88-8ece-4ebc-9c1a-7a4a586e026e\",\"type\":\"GlyphRenderer\"}],\"title\":{\"id\":\"6a2c80bb-e4dd-4352-9f91-3649c59a2652\",\"type\":\"Title\"},\"tool_events\":{\"id\":\"e2572fdf-6808-4130-9462-3b09b3802f24\",\"type\":\"ToolEvents\"},\"toolbar\":{\"id\":\"c82ee8aa-31c4-44e6-9694-761c6807f11d\",\"type\":\"Toolbar\"},\"toolbar_location\":\"above\",\"x_range\":{\"id\":\"e626a096-1ae8-4239-8599-17db0a09579f\",\"type\":\"DataRange1d\"},\"x_scale\":{\"id\":\"17dca81e-3db9-408e-b519-db3a833edad2\",\"type\":\"LinearScale\"},\"y_range\":{\"id\":\"85600413-d30d-45ac-983a-697ec3e90ab9\",\"type\":\"DataRange1d\"},\"y_scale\":{\"id\":\"1a734c4f-532a-4ca2-bb23-b2e710997f4e\",\"type\":\"LinearScale\"}},\"id\":\"2644efdd-fff5-4f16-a25a-f78b36a24e43\",\"subtype\":\"Figure\",\"type\":\"Plot\"},{\"attributes\":{\"callback\":null},\"id\":\"85600413-d30d-45ac-983a-697ec3e90ab9\",\"type\":\"DataRange1d\"},{\"attributes\":{\"line_alpha\":{\"value\":0.1},\"line_color\":{\"value\":\"#1f77b4\"},\"line_width\":{\"value\":1.25},\"x\":{\"field\":\"x\"},\"y\":{\"field\":\"y\"}},\"id\":\"d55a6483-b664-4953-a0b2-bc85d0c6cf78\",\"type\":\"Line\"},{\"attributes\":{\"data_source\":{\"id\":\"6b475208-419e-4dfc-99c8-c17921185ae2\",\"type\":\"ColumnDataSource\"},\"glyph\":{\"id\":\"34664e5b-b73f-48ec-a210-067da65c02d8\",\"type\":\"Line\"},\"hover_glyph\":null,\"muted_glyph\":null,\"nonselection_glyph\":{\"id\":\"48e203df-278c-4e47-ba61-868ace3bc417\",\"type\":\"Line\"},\"selection_glyph\":null},\"id\":\"d58b5f88-8ece-4ebc-9c1a-7a4a586e026e\",\"type\":\"GlyphRenderer\"},{\"attributes\":{\"data_source\":{\"id\":\"cf914852-f658-4836-a7ae-b1027cf32c55\",\"type\":\"ColumnDataSource\"},\"glyph\":{\"id\":\"fc402aaf-ee27-4523-885c-a45922f2b80b\",\"type\":\"Line\"},\"hover_glyph\":null,\"muted_glyph\":null,\"nonselection_glyph\":{\"id\":\"1ef51834-a3c0-402b-b9d6-2fcd6b7faaa9\",\"type\":\"Line\"},\"selection_glyph\":null},\"id\":\"d2c366cf-f9fd-41b0-9f45-93b3387312c8\",\"type\":\"GlyphRenderer\"},{\"attributes\":{\"callback\":null,\"column_names\":[\"x\",\"y\"],\"data\":{\"x\":[0,1,2,3,4,5,6,7,8,9,10,11,12,13,14,15,16,17,18,19,20,21,22,23,24,25,26,27,28,29,30,31,32,33,34,35,36,37,38,39,40,41,42,43,44,45,46,47,48,49,50,51,52,53,54,55,56,57,58,59,60,61,62,63,64,65,66,67,68,69,70,71,72,73,74,75,76,77,78,79,80,81,82,83,84,85,86,87,88,89,90,91,92,93,94,95,96,97,98,99,100,101,102,103,104,105,106,107,108,109,110,111,112,113,114,115,116,117,118,119,120,121,122,123,124,125,126,127,128,129,130,131,132,133,134,135,136,137,138,139,140,141,142,143,144,145,146,147,148,149,150,151,152,153,154,155,156,157,158,159,160,161,162,163,164,165,166,167,168,169,170,171,172,173,174,175,176,177,178,179,180,181,182,183,184,185,186,187,188,189,190,191,192,193,194,195,196,197,198,199],\"y\":{\"__ndarray__\":\"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\",\"dtype\":\"float64\",\"shape\":[200]}}},\"id\":\"b8fc3fb2-07e3-4554-8ba8-743ee3fabbcd\",\"type\":\"ColumnDataSource\"},{\"attributes\":{},\"id\":\"e2572fdf-6808-4130-9462-3b09b3802f24\",\"type\":\"ToolEvents\"},{\"attributes\":{\"click_policy\":\"hide\",\"items\":[{\"id\":\"3e354117-ac8f-4a5b-a011-595a0ada4836\",\"type\":\"LegendItem\"},{\"id\":\"947132e0-f0f6-4a81-9fd5-67fef92967e3\",\"type\":\"LegendItem\"},{\"id\":\"56fac22b-0e3e-4a6e-9806-c0e5e60e4a66\",\"type\":\"LegendItem\"},{\"id\":\"fb7f9d46-d24e-4436-8757-618057ee7283\",\"type\":\"LegendItem\"},{\"id\":\"0b0a76e6-68a9-4202-aa09-83e5fc6d8052\",\"type\":\"LegendItem\"},{\"id\":\"9afb65cd-e0bc-4275-840e-e5431d176962\",\"type\":\"LegendItem\"}],\"location\":\"bottom_right\",\"orientation\":\"horizontal\",\"plot\":{\"id\":\"2644efdd-fff5-4f16-a25a-f78b36a24e43\",\"subtype\":\"Figure\",\"type\":\"Plot\"}},\"id\":\"04b80a03-1242-47fc-961a-f239bde4293f\",\"type\":\"Legend\"},{\"attributes\":{\"data_source\":{\"id\":\"99f2e59f-d92e-404c-b446-aad446769348\",\"type\":\"ColumnDataSource\"},\"glyph\":{\"id\":\"32d0c413-cfea-40f3-92b0-bc0b76de3046\",\"type\":\"Line\"},\"hover_glyph\":null,\"muted_glyph\":null,\"nonselection_glyph\":{\"id\":\"8bac0dcd-4d56-453b-9dbf-45c9cc8f92f1\",\"type\":\"Line\"},\"selection_glyph\":null},\"id\":\"cdf36230-fb5a-4970-b098-1098e9b4a082\",\"type\":\"GlyphRenderer\"},{\"attributes\":{\"callback\":null,\"column_names\":[\"x\",\"y\"],\"data\":{\"x\":[0,1,2,3,4,5,6,7,8,9,10,11,12,13,14,15,16,17,18,19,20,21,22,23,24,25,26,27,28,29,30,31,32,33,34,35,36,37,38,39,40,41,42,43,44,45,46,47,48,49,50,51,52,53,54,55,56,57,58,59,60,61,62,63,64,65,66,67,68,69,70,71,72,73,74,75,76,77,78,79,80,81,82,83,84,85,86,87,88,89,90,91,92,93,94,95,96,97,98,99,100,101,102,103,104,105,106,107,108,109,110,111,112,113,114,115,116,117,118,119,120,121,122,123,124,125,126,127,128,129,130,131,132,133,134,135,136,137,138,139,140,141,142,143,144,145,146,147,148,149,150,151,152,153,154,155,156,157,158,159,160,161,162,163,164,165,166,167,168,169,170,171,172,173,174,175,176,177,178,179,180,181,182,183,184,185,186,187,188,189,190,191,192,193,194,195,196,197,198,199],\"y\":{\"__ndarray__\":\"AAAAAAAAAAAAAAAAAAAAAAAAAAAAAAAAAAAAAAAAAAAAAAAAAAAAAAAAAAAAAAAAAAAAAAAAAAAAAAAAAAAAAAAAAAAAAAAAAAAAAAAAAAAAAAAAAAAAAAAAAAAAAAAAAAAAAAAAAAAAAAAAAAAAAAAAAAAAAAAAAAAAAAAAAAAAAAAAAAAAAAAAAAAAAAAAAAAAAAAAAAAAAAAAAAAAAAAAAAAAAAAAAAAAAAAAAAAAAAAAAAAAAAAAAAAAAAAAAAAAAAAAAAAAAAAAAAAAAAAAAAAAAAAAAAAAAAAAAAAAAAAAAAAAAAAAAAAAAAAAAAAAAAAAAAAAAAAAAAAAAAAAAAAAAAAAAAAAAAAAAAAAAAAAAAAAAAAAAAAAAAAAAAAAAAAAAAAAAAAAAAAAAAAAAAAAAAAAAAAAAAAAAAAAAAAAAAAAAAAAAAAAAAAAAAAAAAAAAAAAAAAAAAAAAAAAAAAAAAAAAAAAAAAAAAAAAAAAAAAAAAAAAAAAAAAAAAAAAAAAAAAAAAAAAAAAAAAAAAAAAAAAAAAAAAAAAAAAAAAAAAAAAAAAAAAAAAAAAAAAAAAAAAAAAAAAAAAAAAAAAAAAAAAAAAAAAAAAAAAAAAAAAAAAAAAAAAAAAAAAAAAAAAAAAAAAAAAAAAAAAAAAAAAAAAAAAAAAAAAAAAAAAAAAAAAAAAAAAAAAAAAAAAAAAAAAAAAAAAAAAAAAAAAAAAAAAAAAAAAAAAAAAAAAAAAAAAAAAAAAAAAAAAAAAAAAAAAAAAAAAAAAAAAAAAAAAAAAAAAAAAAAAAAAAAAAAAAAAAAAAAAAAAAAAAAAAAAAAAAAAAAAAAAAAAAAAAAAAAAAAAAAAAAAAAAAAAAAAAAAAAAAAAAAAAAAAAAAAAAAAAAAAAAAAAAAAAAAAAAAAAAAAAAAAAAAAAAAAAAAAAAAAAAAAAAAAAAAAAAAAAAAAAAAAAAAAAAAAAAAAAAAAAAAAAAAAAAAAAAAAAAAAAAAAAAAAAAAAAAAAAAAAAAAAAAAAAAAAAAAAAAAAAAAAAAAAAAAAAAAAAAAAAAAAAAAAAAAAAAAAAAAAAAAAAAAAAAAAAAAAAAAAAAAAAAAAAAAAAAAAAAAAAAAAAAAAAAAAAAAAAAAAAAAAAAAAAAAAAAAAAAAAAAAAAAAAAAAAAAAAAAAAAAAAAAAAAAAAAAAAAAAAAAAAAAAAAAAAAAAAAAAAAC80Mmz0I6FP7zQybPQjoU/DreB4FNVhT+XHbV9Bh2FP3VOa0Hf5YQ/2fG/QdWvhD/Z8b9B1a+EP9w8FfDfeoQ/OS+PFPdGhD953NLJEhSEP3nc0skSFIQ/edzSyRIUhD+xIAV5K+KDPwN8BNY5sYM/bCPa2zaBgz98oV7JG1KDP3mnDh7iI4M/U+8Ml4P2gj9+SU4s+smCP7gn7Q1AnoI/OyeioU9zgj9ZSl+AI0mCP4S7C3S2H4I/RBpedQP3gT86dtOpBc+BPy89wWG4p4E/WX+AFheBgT9Zf4AWF4GBPxsJsWgdW4E/W+uSHsc1gT9b65IexzWBP2QjdSIQEYE/ZCN1IhARgT+PKTiB9OyAP48pOIH07IA/TULjaHDJgD9dgEsngKaAP2V4yygghIA/ZXjLKCCEgD+1tgr3TGKAPwYX1DcDQYA/Qiz6qz8ggD/I5pFc/v9/P8jmkVz+/38/tTEIZX3Afz8eRuKI9oF/P7q+2Q1kRH8/UPEWZsAHfz9Q8RZmwAd/P1DxFmbAB38/rE+FLgbMfj9U7jotMJF+P7Ay8k85V34/mLmUqhwefj/blNZ11eV9P8EL4Q1frn0/wQvhDV+ufT9hFgzxtHd9P2EWDPG0d30/aNelvtJBfT9o16W+0kF9P1RixzW0DH0/VGLHNbQMjT9sJjY0VdiMP/RfUbWxpIw/9F9RtbGkjD/9+QrRxXGMP/35CtHFcYw/c1Pruo0/jD/EYR/BBQ6MP8CykEsq3Ys/NdYG2/esiz8dvlEIa32LP06qfIOATos/SjoJEzUgiz8QRTKThfKKP/IbNvVuxYo/DuKnPu6Yij+bpseIAG2KP1b04P+iQYo/VvTg/6JBij9jjK/i0haKP2OMr+LSFoo/Y4yv4tIWij9jjK/i0haKPw==\",\"dtype\":\"float64\",\"shape\":[200]}}},\"id\":\"43e74ad3-ac5e-4ad2-a7ef-4417a1edb6de\",\"type\":\"ColumnDataSource\"},{\"attributes\":{\"line_alpha\":{\"value\":0.1},\"line_color\":{\"value\":\"#1f77b4\"},\"line_width\":{\"value\":1.25},\"x\":{\"field\":\"x\"},\"y\":{\"field\":\"y\"}},\"id\":\"8dacc9e4-b6be-4e05-8f78-6e9decd170cf\",\"type\":\"Line\"},{\"attributes\":{\"callback\":null,\"column_names\":[\"x\",\"y\"],\"data\":{\"x\":[0,1,2,3,4,5,6,7,8,9,10,11,12,13,14,15,16,17,18,19,20,21,22,23,24,25,26,27,28,29,30,31,32,33,34,35,36,37,38,39,40,41,42,43,44,45,46,47,48,49,50,51,52,53,54,55,56,57,58,59,60,61,62,63,64,65,66,67,68,69,70,71,72,73,74,75,76,77,78,79,80,81,82,83,84,85,86,87,88,89,90,91,92,93,94,95,96,97,98,99,100,101,102,103,104,105,106,107,108,109,110,111,112,113,114,115,116,117,118,119,120,121,122,123,124,125,126,127,128,129,130,131,132,133,134,135,136,137,138,139,140,141,142,143,144,145,146,147,148,149,150,151,152,153,154,155,156,157,158,159,160,161,162,163,164,165,166,167,168,169,170,171,172,173,174,175,176,177,178,179,180,181,182,183,184,185,186,187,188,189,190,191,192,193,194,195,196,197,198,199],\"y\":{\"__ndarray__\":\"AAAAAAAAAAAAAAAAAAAAAAAAAAAAAAAAAAAAAAAAAAAAAAAAAAAAAAAAAAAAAAAAAAAAAAAAAAAAAAAAAAAAAAAAAAAAAAAAAAAAAAAAAAAAAAAAAAAAAAAAAAAAAAAAAAAAAAAAAAAAAAAAAAAAAAAAAAAAAAAAAAAAAAAAAAAAAAAAAAAAAAAAAAAAAAAAAAAAAAAAAAAAAAAAAAAAAAAAAAAAAAAAAAAAAAAAAAAAAAAAAAAAAAAAAAAAAAAAAAAAAAAAAAAAAAAAAAAAAAAAAAAAAAAAAAAAAAAAAAAAAAAAAAAAAAAAAAAAAAAAAAAAAAAAAAAAAAAAAAAAAAAAAAAAAAAAAAAAAAAAAAAAAAAAAAAAAAAAAAAAAAAAAAAAAAAAAAAAAAAAAAAAAAAAAAAAAAAAAAAAAAAAAAAAAAAAAAAAAAAAAAAAAAAAAAAAAAAAAAAAAAAAAAAAAAAAAAAAAAAAAAAAAAAAAAAAAAAAAAAAAAAAAAAAAAAAAAAAAAAAAAAAAAAAAAAAAAAAAAAAAAAAAAAAAAAAAAAAAAAAAAAAAAAAAAAAAAAAAAAAAAAAAAAAAAAAAAAAAAAAAAAAAAAAAAAAAAAAAAAAAAAAAAAAAAAAAAAAAAAAAAAAAAAAAAAAAAAAAAAAAAAAAAAAAAAAAAAAAAAAAAAAAAAAAAAAAAAAAAAAAAAAAAAAAAAAAAAAAAAAAAAAAAAAAAAAAAAAAAAAAAAAAAAAAAAAAAAAAAAAAAAAAAAAAAAAAAAAAAAAAAAAAAAAAAAAAAAAAAAAAAAAAAAAAAAAAAAAAAAAAAAAAAAAAAAAAAAAAAAAAAAAAAAAAAAAAAAAAAAAAAAAAAAAAAAAAAAAAAAAAAAAAAAAAAAAAAAAAAAAAAAAAAAAAAAAAAAAAAAAAAAAAAAAAAAAAAAAAAAAAAAAAAAAAAAAAAAAAAAAAAAAAAAAAAAAAAAAAAAAAAAAAAAAAAAAAAAAAAAAAAAAAAAAAAAAAAAAAAAAAAAAAAAAAAAAAAAAAAAAAAAAAAAAAAAAAAAAAAAAAAAAAAAAAAAAAAAAAAAAAAAAAAAAAAAAAAAAAAAAAAAAAAAAAAAAAAAAAAAAAAAAAAAAAAAAAAAAAAAAAAAAAAAAAAAAAAAAAAAAAAAAAAAAAAAAAAAAAAAAAAAAAAAAAAAAAAAAAAAAAAAAAAAAAAAAAAAAAAAAAAAAAAAAAAAAAAAAAAAAAAAAAAAAAAAAAAAAAAAAAAAAAAAAAAAAAAAAAAAAAAAAAAAAAAAAAAAAAAAAAAAAAAAAAAAAAAAAAAAAAAAAAAAAAAAAAAAAAAAAAAAAAAAAAAAAAAAAAAAAAAAAAAAAAAAAAAAAAAAAAAAAAAAAAAAAAAAAAAAAAAAAAAAAAAAAAAAAAAAAAAAAAAAAAAAAAAAAAAAAAAAAAAAAAABZSl+AI0mCP4S7C3S2H4I/RBpedQP3gT86dtOpBc+BPy89wWG4p4E/WX+AFheBgT8bCbFoHVuBPxsJsWgdW4E/W+uSHsc1gT9kI3UiEBGBP48pOIH07IA/TULjaHDJgD9dgEsngKaAP2V4yygghIA/tbYK90xigD8GF9Q3A0GAP0Is+qs/IIA/yOaRXP7/fz+1MQhlfcB/P7UxCGV9wH8/HkbiiPaBfz+6vtkNZER/P1DxFmbAB38/rE+FLgbMfj9U7jotMJF+P7Ay8k85V34/mLmUqhwefj/blNZ11eV9P8EL4Q1frn0/wQvhDV+ufT9hFgzxtHd9P2EWDPG0d30/aNelvtJBfT9o16W+0kF9P2jXpb7SQX0/VGLHNbQMfT9sJjY0Vdh8P/RfUbWxpHw//fkK0cVxfD9zU+u6jT98P8RhH8EFDnw/wLKQSyrdez/AspBLKt17P8CykEsq3Xs/NdYG2/esez8dvlEIa317P06qfIOATns/SjoJEzUgez9KOgkTNSB7P0o6CRM1IHs/SjoJEzUgez8QRTKThfJ6P/IbNvVuxXo/8hs29W7Fej8O4qc+7ph6P5umx4gAbXo/m6bHiABtej+bpseIAG16P5umx4gAbXo/m6bHiABtej+bpseIAG16P5umx4gAbXo/VvTg/6JBej9jjK/i0hZ6Pw==\",\"dtype\":\"float64\",\"shape\":[200]}}},\"id\":\"8c7c5dbb-b1c4-482c-bb46-d38aab02012d\",\"type\":\"ColumnDataSource\"},{\"attributes\":{\"grid_line_alpha\":{\"value\":0.1},\"grid_line_color\":{\"value\":\"navy\"},\"grid_line_dash\":[6],\"plot\":{\"id\":\"2644efdd-fff5-4f16-a25a-f78b36a24e43\",\"subtype\":\"Figure\",\"type\":\"Plot\"},\"ticker\":{\"id\":\"bc321db9-caf5-41d8-a93c-493921909647\",\"type\":\"BasicTicker\"}},\"id\":\"71c6794d-f881-4876-b07c-08d90440f798\",\"type\":\"Grid\"},{\"attributes\":{\"line_color\":{\"value\":\"#ffff33\"},\"line_width\":{\"value\":1.25},\"x\":{\"field\":\"x\"},\"y\":{\"field\":\"y\"}},\"id\":\"34664e5b-b73f-48ec-a210-067da65c02d8\",\"type\":\"Line\"},{\"attributes\":{\"data_source\":{\"id\":\"b8fc3fb2-07e3-4554-8ba8-743ee3fabbcd\",\"type\":\"ColumnDataSource\"},\"glyph\":{\"id\":\"ff60c880-6ca7-484a-9e91-d3d59fcc38b0\",\"type\":\"Line\"},\"hover_glyph\":null,\"muted_glyph\":null,\"nonselection_glyph\":{\"id\":\"1c4b89f2-c7ea-44eb-bbbc-b62a448c36b2\",\"type\":\"Line\"},\"selection_glyph\":null},\"id\":\"6980505e-411f-490d-95c4-2848938d0ac7\",\"type\":\"GlyphRenderer\"},{\"attributes\":{\"active_drag\":\"auto\",\"active_inspect\":\"auto\",\"active_scroll\":\"auto\",\"active_tap\":\"auto\",\"tools\":[{\"id\":\"b41a961d-d56b-4c71-9790-e37407753af2\",\"type\":\"HoverTool\"},{\"id\":\"53e56d0c-ab67-4cc5-b3f8-fa3a46905638\",\"type\":\"CrosshairTool\"},{\"id\":\"68837284-d3e4-4d3e-8543-ba752fca382b\",\"type\":\"PanTool\"},{\"id\":\"ee73c88a-3652-499d-b511-d370c5fba5a2\",\"type\":\"WheelZoomTool\"},{\"id\":\"9f3e409a-3704-4557-a506-317cd6e3f176\",\"type\":\"ResetTool\"},{\"id\":\"ae72df76-7639-41d5-9504-e7ca92125868\",\"type\":\"SaveTool\"},{\"id\":\"ff34794e-627e-4008-bf28-72acdb768d5a\",\"type\":\"BoxSelectTool\"}]},\"id\":\"c82ee8aa-31c4-44e6-9694-761c6807f11d\",\"type\":\"Toolbar\"},{\"attributes\":{\"plot\":null,\"text\":\"\"},\"id\":\"6a2c80bb-e4dd-4352-9f91-3649c59a2652\",\"type\":\"Title\"},{\"attributes\":{\"plot\":{\"id\":\"2644efdd-fff5-4f16-a25a-f78b36a24e43\",\"subtype\":\"Figure\",\"type\":\"Plot\"}},\"id\":\"ee73c88a-3652-499d-b511-d370c5fba5a2\",\"type\":\"WheelZoomTool\"},{\"attributes\":{\"label\":{\"value\":\"f20\"},\"renderers\":[{\"id\":\"d2c366cf-f9fd-41b0-9f45-93b3387312c8\",\"type\":\"GlyphRenderer\"}]},\"id\":\"947132e0-f0f6-4a81-9fd5-67fef92967e3\",\"type\":\"LegendItem\"},{\"attributes\":{},\"id\":\"1a734c4f-532a-4ca2-bb23-b2e710997f4e\",\"type\":\"LinearScale\"},{\"attributes\":{\"line_color\":{\"value\":\"#e41a1c\"},\"line_width\":{\"value\":1.25},\"x\":{\"field\":\"x\"},\"y\":{\"field\":\"y\"}},\"id\":\"ff60c880-6ca7-484a-9e91-d3d59fcc38b0\",\"type\":\"Line\"},{\"attributes\":{\"line_alpha\":{\"value\":0.1},\"line_color\":{\"value\":\"#1f77b4\"},\"line_width\":{\"value\":1.25},\"x\":{\"field\":\"x\"},\"y\":{\"field\":\"y\"}},\"id\":\"1c4b89f2-c7ea-44eb-bbbc-b62a448c36b2\",\"type\":\"Line\"},{\"attributes\":{\"plot\":{\"id\":\"2644efdd-fff5-4f16-a25a-f78b36a24e43\",\"subtype\":\"Figure\",\"type\":\"Plot\"}},\"id\":\"68837284-d3e4-4d3e-8543-ba752fca382b\",\"type\":\"PanTool\"},{\"attributes\":{\"plot\":{\"id\":\"2644efdd-fff5-4f16-a25a-f78b36a24e43\",\"subtype\":\"Figure\",\"type\":\"Plot\"}},\"id\":\"9f3e409a-3704-4557-a506-317cd6e3f176\",\"type\":\"ResetTool\"},{\"attributes\":{\"line_alpha\":{\"value\":0.1},\"line_color\":{\"value\":\"#1f77b4\"},\"line_width\":{\"value\":1.25},\"x\":{\"field\":\"x\"},\"y\":{\"field\":\"y\"}},\"id\":\"8bac0dcd-4d56-453b-9dbf-45c9cc8f92f1\",\"type\":\"Line\"},{\"attributes\":{\"label\":{\"value\":\"f30\"},\"renderers\":[{\"id\":\"cdf36230-fb5a-4970-b098-1098e9b4a082\",\"type\":\"GlyphRenderer\"}]},\"id\":\"56fac22b-0e3e-4a6e-9806-c0e5e60e4a66\",\"type\":\"LegendItem\"},{\"attributes\":{\"axis_label\":\"Top DCA pairs\",\"formatter\":{\"id\":\"9063f5b5-8872-41e6-bd3c-8dcf35fc1652\",\"type\":\"BasicTickFormatter\"},\"plot\":{\"id\":\"2644efdd-fff5-4f16-a25a-f78b36a24e43\",\"subtype\":\"Figure\",\"type\":\"Plot\"},\"ticker\":{\"id\":\"bc321db9-caf5-41d8-a93c-493921909647\",\"type\":\"BasicTicker\"}},\"id\":\"bcfe4745-16b7-44ff-8f00-ceb74fdca9e2\",\"type\":\"LinearAxis\"},{\"attributes\":{\"line_color\":{\"value\":\"#984ea3\"},\"line_width\":{\"value\":1.25},\"x\":{\"field\":\"x\"},\"y\":{\"field\":\"y\"}},\"id\":\"e074a6dd-431f-4cfa-a9db-a1f1b6adcf00\",\"type\":\"Line\"},{\"attributes\":{},\"id\":\"cb13f5a6-31c1-4e79-8d68-829635fae06b\",\"type\":\"BasicTickFormatter\"},{\"attributes\":{},\"id\":\"9063f5b5-8872-41e6-bd3c-8dcf35fc1652\",\"type\":\"BasicTickFormatter\"},{\"attributes\":{\"plot\":{\"id\":\"2644efdd-fff5-4f16-a25a-f78b36a24e43\",\"subtype\":\"Figure\",\"type\":\"Plot\"}},\"id\":\"ae72df76-7639-41d5-9504-e7ca92125868\",\"type\":\"SaveTool\"},{\"attributes\":{},\"id\":\"bc321db9-caf5-41d8-a93c-493921909647\",\"type\":\"BasicTicker\"},{\"attributes\":{\"line_alpha\":{\"value\":0.1},\"line_color\":{\"value\":\"#1f77b4\"},\"line_width\":{\"value\":1.25},\"x\":{\"field\":\"x\"},\"y\":{\"field\":\"y\"}},\"id\":\"48e203df-278c-4e47-ba61-868ace3bc417\",\"type\":\"Line\"},{\"attributes\":{\"axis_label\":\"IMatch Ratio (Inter:Mon)\",\"formatter\":{\"id\":\"cb13f5a6-31c1-4e79-8d68-829635fae06b\",\"type\":\"BasicTickFormatter\"},\"plot\":{\"id\":\"2644efdd-fff5-4f16-a25a-f78b36a24e43\",\"subtype\":\"Figure\",\"type\":\"Plot\"},\"ticker\":{\"id\":\"facd5533-ed62-41cf-a100-f71bc7c47922\",\"type\":\"BasicTicker\"}},\"id\":\"fa29d185-159c-49e9-af5d-9fadf70c9d85\",\"type\":\"LinearAxis\"},{\"attributes\":{\"plot\":{\"id\":\"2644efdd-fff5-4f16-a25a-f78b36a24e43\",\"subtype\":\"Figure\",\"type\":\"Plot\"}},\"id\":\"53e56d0c-ab67-4cc5-b3f8-fa3a46905638\",\"type\":\"CrosshairTool\"},{\"attributes\":{\"callback\":null,\"overlay\":{\"id\":\"563de46c-8e70-452d-81b5-3346780409c4\",\"type\":\"BoxAnnotation\"},\"plot\":{\"id\":\"2644efdd-fff5-4f16-a25a-f78b36a24e43\",\"subtype\":\"Figure\",\"type\":\"Plot\"},\"renderers\":[{\"id\":\"6980505e-411f-490d-95c4-2848938d0ac7\",\"type\":\"GlyphRenderer\"},{\"id\":\"d2c366cf-f9fd-41b0-9f45-93b3387312c8\",\"type\":\"GlyphRenderer\"},{\"id\":\"cdf36230-fb5a-4970-b098-1098e9b4a082\",\"type\":\"GlyphRenderer\"},{\"id\":\"b9c0c9a5-a0fb-4a8b-b9a1-ac2f60050ffe\",\"type\":\"GlyphRenderer\"},{\"id\":\"6d395ffb-e7fa-4fa5-ad43-239c8fce5c51\",\"type\":\"GlyphRenderer\"},{\"id\":\"d58b5f88-8ece-4ebc-9c1a-7a4a586e026e\",\"type\":\"GlyphRenderer\"}]},\"id\":\"ff34794e-627e-4008-bf28-72acdb768d5a\",\"type\":\"BoxSelectTool\"},{\"attributes\":{\"line_color\":{\"value\":\"#4daf4a\"},\"line_width\":{\"value\":1.25},\"x\":{\"field\":\"x\"},\"y\":{\"field\":\"y\"}},\"id\":\"32d0c413-cfea-40f3-92b0-bc0b76de3046\",\"type\":\"Line\"},{\"attributes\":{\"line_color\":{\"value\":\"#ff7f00\"},\"line_width\":{\"value\":1.25},\"x\":{\"field\":\"x\"},\"y\":{\"field\":\"y\"}},\"id\":\"56ec82de-7b5d-4855-a616-c90ae8e7eadd\",\"type\":\"Line\"},{\"attributes\":{\"data_source\":{\"id\":\"43e74ad3-ac5e-4ad2-a7ef-4417a1edb6de\",\"type\":\"ColumnDataSource\"},\"glyph\":{\"id\":\"e074a6dd-431f-4cfa-a9db-a1f1b6adcf00\",\"type\":\"Line\"},\"hover_glyph\":null,\"muted_glyph\":null,\"nonselection_glyph\":{\"id\":\"8dacc9e4-b6be-4e05-8f78-6e9decd170cf\",\"type\":\"Line\"},\"selection_glyph\":null},\"id\":\"b9c0c9a5-a0fb-4a8b-b9a1-ac2f60050ffe\",\"type\":\"GlyphRenderer\"},{\"attributes\":{\"line_alpha\":{\"value\":0.1},\"line_color\":{\"value\":\"#1f77b4\"},\"line_width\":{\"value\":1.25},\"x\":{\"field\":\"x\"},\"y\":{\"field\":\"y\"}},\"id\":\"1ef51834-a3c0-402b-b9d6-2fcd6b7faaa9\",\"type\":\"Line\"},{\"attributes\":{\"data_source\":{\"id\":\"8c7c5dbb-b1c4-482c-bb46-d38aab02012d\",\"type\":\"ColumnDataSource\"},\"glyph\":{\"id\":\"56ec82de-7b5d-4855-a616-c90ae8e7eadd\",\"type\":\"Line\"},\"hover_glyph\":null,\"muted_glyph\":null,\"nonselection_glyph\":{\"id\":\"d55a6483-b664-4953-a0b2-bc85d0c6cf78\",\"type\":\"Line\"},\"selection_glyph\":null},\"id\":\"6d395ffb-e7fa-4fa5-ad43-239c8fce5c51\",\"type\":\"GlyphRenderer\"},{\"attributes\":{\"callback\":null,\"column_names\":[\"x\",\"y\"],\"data\":{\"x\":[0,1,2,3,4,5,6,7,8,9,10,11,12,13,14,15,16,17,18,19,20,21,22,23,24,25,26,27,28,29,30,31,32,33,34,35,36,37,38,39,40,41,42,43,44,45,46,47,48,49,50,51,52,53,54,55,56,57,58,59,60,61,62,63,64,65,66,67,68,69,70,71,72,73,74,75,76,77,78,79,80,81,82,83,84,85,86,87,88,89,90,91,92,93,94,95,96,97,98,99,100,101,102,103,104,105,106,107,108,109,110,111,112,113,114,115,116,117,118,119,120,121,122,123,124,125,126,127,128,129,130,131,132,133,134,135,136,137,138,139,140,141,142,143,144,145,146,147,148,149,150,151,152,153,154,155,156,157,158,159,160,161,162,163,164,165,166,167,168,169,170,171,172,173,174,175,176,177,178,179,180,181,182,183,184,185,186,187,188,189,190,191,192,193,194,195,196,197,198,199],\"y\":{\"__ndarray__\":\"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\",\"dtype\":\"float64\",\"shape\":[200]}}},\"id\":\"6b475208-419e-4dfc-99c8-c17921185ae2\",\"type\":\"ColumnDataSource\"},{\"attributes\":{},\"id\":\"17dca81e-3db9-408e-b519-db3a833edad2\",\"type\":\"LinearScale\"},{\"attributes\":{\"callback\":null,\"column_names\":[\"x\",\"y\"],\"data\":{\"x\":[0,1,2,3,4,5,6,7,8,9,10,11,12,13,14,15,16,17,18,19,20,21,22,23,24,25,26,27,28,29,30,31,32,33,34,35,36,37,38,39,40,41,42,43,44,45,46,47,48,49,50,51,52,53,54,55,56,57,58,59,60,61,62,63,64,65,66,67,68,69,70,71,72,73,74,75,76,77,78,79,80,81,82,83,84,85,86,87,88,89,90,91,92,93,94,95,96,97,98,99,100,101,102,103,104,105,106,107,108,109,110,111,112,113,114,115,116,117,118,119,120,121,122,123,124,125,126,127,128,129,130,131,132,133,134,135,136,137,138,139,140,141,142,143,144,145,146,147,148,149,150,151,152,153,154,155,156,157,158,159,160,161,162,163,164,165,166,167,168,169,170,171,172,173,174,175,176,177,178,179,180,181,182,183,184,185,186,187,188,189,190,191,192,193,194,195,196,197,198,199],\"y\":{\"__ndarray__\":\"AAAAAAAAAAAAAAAAAAAAAAAAAAAAAAAAAAAAAAAAAAAAAAAAAAAAAAAAAAAAAAAAAAAAAAAAAAAAAAAAAAAAAAAAAAAAAAAAAAAAAAAAAAAAAAAAAAAAAAAAAAAAAAAAAAAAAAAAAAAAAAAAAAAAAAAAAAAAAAAAAAAAAAAAAAAAAAAAAAAAAAAAAAAAAAAAAAAAAAAAAAAAAAAAAAAAAAAAAAAAAAAAAAAAAAAAAAAAAAAAAAAAAAAAAAAAAAAAAAAAAAAAAAAAAAAAAAAAAAAAAAAAAAAAAAAAAAAAAAAAAAAAAAAAAAAAAAAAAAAAAAAAAAAAAAAAAAAAAAAAAAAAAAAAAAAAAAAAAAAAAAAAAAAAAAAAAAAAAAAAAAAAAAAAAAAAAAAAAAAAAAAAAAAAAAAAAAAAAAAAAAAAAAAAAAAAAAAAAAAAAAAAAAAAAAAAAAAAAAAAAAAAAAAAAAAAAAAAAAAAAAAAAAAAAAAAAAAAAAAAAAAAAAAAAAAAAAAAAAAAAAAAAAAAAAAAAAAAAAAAAAAAAAAAAAAAAAAAAAAAAAAAAAAAAAAAAAAAAAAAAAAAAAAAAAAAAAAAAAAAAAAAAAAAAAAAAAAAAAAAAAAAAAAAAAAAAAAAAAAAAAAAAAAAAAAAAAAAAAAAAAAAAAAAAAAAAAAAAAAAAAAAAAAAAAAAAAAAAAAAAAAAAAAAAAAAAAAAAAAAAAAAAAAAAAAAAAAAAAAAAAAAAAAAAAAAAAAAAAAAAAAAAAAAAAAAAAAAAAAAAAAAAAAAAAAAAAAAAAAAAAAAAAAAAAAAAAAAAAAAAAAAAAAAAAAAAAAAAAAAAAAAAAAAAAAAAAAAAAAAAAAAAAAAAAAAAAAAAAAAAAAAAAAAAAAAAAAAAAAAAAAAAAAAAAAAAAAAAAAAAAAAAAAAAAAAAAAAAAAAAAAAAAAAAAAAAAAAAAAAAAAAAAAAAAAAAAAAAAAAAAAAAAAAAAAAAAAAAAAAAAAAAAAAAAAAAAAAAAAAAAAAAAAAAAAAAAAAAAAAAAAAAAAAAAAAAAAAAAAAAAAAAAAAAAAAAAAAAAAAAAAAAAAAAAAAAAAAAAAAAAAAAAAAAAAAAAAAAAAAAAAAAAAAAAAAAAAAAAAAAAAAAAAAAAAAAAAAAAAAAAAAAAAAAAAAAAAAAAAAAAAAAAAAAAAAAAAAAAAAAAAAAAAAAAAAAAAAAAAAAAAAAAAAAAAAAAAAAAAAAAAAAAAAAAAAAAAAAAAAAAAAAAAAAAAAAAAAAAAAAAAAAAAAAAAAAAAAAAAAAAAAAAAAAAAAAAAAAAAAAAAAAAAAAAAAAAAAAAAAAAAAAAAAAAAAAAAAAAAAAAAAAAAAAAAAAAAAAAAAAAAAAAAAAAAAAAAAAAAAAAAAAAAAAAAAAAAAAAAAAAAAAAAAAAAAAAAAAAAAAAAAAAAAAAAAAAAAAAAAAAAAAAAAAAAAAAAAAAAAAAAAAAAAAAAAAAAAAAAAAAAAAAAAAAAAAAAAAAAAAAAAAAAAAAAAAAAAAAAAAAAAAAAAAAAAAAAAAAAAAAAAAAAAAAAAAAAAAAAAAAAAAAAAAAAAAAAAAAAAAAAAAAAAAAAAAAAAAAAAAAAAAAAAAAAAAAAAAAAAAAAAAAAAAAAAAAAAAAAAAAAAAAAAAAAAAAAAAAAAAAAAAAAAAAAAAAAAAAAAAAAAAAAAAAAAAAAAABsJsWgdW4E/W+uSHsc1gT9kI3UiEBGBP48pOIH07IA/jyk4gfTsgD9NQuNocMmAP01C42hwyYA/TULjaHDJkD9dgEsngKaQP12ASyeAppA/XYBLJ4CmkD9leMsoIISQP2V4yygghJA/tbYK90xikD8GF9Q3A0GQP0Is+qs/IJA/Qiz6qz8gkD/I5pFc/v+PP7UxCGV9wI8/HkbiiPaBjz+6vtkNZESPP7q+2Q1kRI8/UPEWZsAHjz+sT4UuBsyOP6xPhS4GzI4/rE+FLgbMjj9U7jotMJGOP7Ay8k85V44/mLmUqhwejj+YuZSqHB6OP9uU1nXV5Y0/wQvhDV+ujT/BC+ENX66NP2EWDPG0d40/aNelvtJBjT9UYsc1tAyNP2wmNjRV2Iw/9F9RtbGkjD/9+QrRxXGMPw==\",\"dtype\":\"float64\",\"shape\":[200]}}},\"id\":\"99f2e59f-d92e-404c-b446-aad446769348\",\"type\":\"ColumnDataSource\"},{\"attributes\":{\"callback\":null,\"plot\":{\"id\":\"2644efdd-fff5-4f16-a25a-f78b36a24e43\",\"subtype\":\"Figure\",\"type\":\"Plot\"},\"tooltips\":[[\"Top Pairs, IMatch Ratio\",\"$x{0}, $y{0.00}\"]]},\"id\":\"b41a961d-d56b-4c71-9790-e37407753af2\",\"type\":\"HoverTool\"},{\"attributes\":{\"line_color\":{\"value\":\"#377eb8\"},\"line_width\":{\"value\":1.25},\"x\":{\"field\":\"x\"},\"y\":{\"field\":\"y\"}},\"id\":\"fc402aaf-ee27-4523-885c-a45922f2b80b\",\"type\":\"Line\"}],\"root_ids\":[\"2644efdd-fff5-4f16-a25a-f78b36a24e43\"]},\"title\":\"Bokeh Application\",\"version\":\"0.12.6\"}};\n",
       "            var render_items = [{\"docid\":\"d6f660bb-f083-453f-b8c5-44aee325e4e1\",\"elementid\":\"b5016c62-ca6c-4db0-adae-da16d99cc5ef\",\"modelid\":\"2644efdd-fff5-4f16-a25a-f78b36a24e43\"}];\n",
       "            \n",
       "            Bokeh.embed.embed_items(docs_json, render_items);\n",
       "          };\n",
       "          if (document.readyState != \"loading\") fn();\n",
       "          else document.addEventListener(\"DOMContentLoaded\", fn);\n",
       "        })();\n",
       "      },\n",
       "      function(Bokeh) {\n",
       "      }\n",
       "    ];\n",
       "  \n",
       "    function run_inline_js() {\n",
       "      \n",
       "      if ((window.Bokeh !== undefined) || (force === true)) {\n",
       "        for (var i = 0; i < inline_js.length; i++) {\n",
       "          inline_js[i](window.Bokeh);\n",
       "        }if (force === true) {\n",
       "          display_loaded();\n",
       "        }} else if (Date.now() < window._bokeh_timeout) {\n",
       "        setTimeout(run_inline_js, 100);\n",
       "      } else if (!window._bokeh_failed_load) {\n",
       "        console.log(\"Bokeh: BokehJS failed to load within specified timeout.\");\n",
       "        window._bokeh_failed_load = true;\n",
       "      } else if (force !== true) {\n",
       "        var cell = $(document.getElementById(\"b5016c62-ca6c-4db0-adae-da16d99cc5ef\")).parents('.cell').data().cell;\n",
       "        cell.output_area.append_execute_result(NB_LOAD_WARNING)\n",
       "      }\n",
       "  \n",
       "    }\n",
       "  \n",
       "    if (window._bokeh_is_loading === 0) {\n",
       "      console.log(\"Bokeh: BokehJS loaded, going straight to plotting\");\n",
       "      run_inline_js();\n",
       "    } else {\n",
       "      load_libs(js_urls, function() {\n",
       "        console.log(\"Bokeh: BokehJS plotting callback run at\", now());\n",
       "        run_inline_js();\n",
       "      });\n",
       "    }\n",
       "  }(this));\n",
       "</script>"
      ]
     },
     "metadata": {},
     "output_type": "display_data"
    }
   ],
   "source": [
    "plotRatio(r, N)"
   ]
  },
  {
   "cell_type": "markdown",
   "metadata": {},
   "source": [
    "[Back to Overview](#Overview)"
   ]
  },
  {
   "cell_type": "code",
   "execution_count": null,
   "metadata": {
    "collapsed": true
   },
   "outputs": [],
   "source": []
  },
  {
   "cell_type": "code",
   "execution_count": null,
   "metadata": {
    "collapsed": true
   },
   "outputs": [],
   "source": []
  }
 ],
 "metadata": {
  "kernelspec": {
   "display_name": "Python 2",
   "language": "python",
   "name": "python2"
  },
  "language_info": {
   "codemirror_mode": {
    "name": "ipython",
    "version": 2
   },
   "file_extension": ".py",
   "mimetype": "text/x-python",
   "name": "python",
   "nbconvert_exporter": "python",
   "pygments_lexer": "ipython2",
   "version": "2.7.13"
  }
 },
 "nbformat": 4,
 "nbformat_minor": 2
}
