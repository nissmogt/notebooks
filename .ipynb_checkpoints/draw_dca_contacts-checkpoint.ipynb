{
 "cells": [
  {
   "cell_type": "code",
   "execution_count": 1,
   "metadata": {
    "collapsed": false
   },
   "outputs": [],
   "source": [
    "import numpy as np\n",
    "\n",
    "from Bio.PDB import *\n",
    "from Bio.PDB.PDBParser import PDBParser\n",
    "import warnings\n",
    "from Bio.PDB.PDBExceptions import PDBConstructionWarning\n",
    "warnings.simplefilter('ignore', PDBConstructionWarning)"
   ]
  },
  {
   "cell_type": "markdown",
   "metadata": {},
   "source": [
    "## Overview"
   ]
  },
  {
   "cell_type": "markdown",
   "metadata": {},
   "source": [
    "This function takes in a PDB file and any contact map (in this case a DCA map) and prepares a tcl script for drawing lines between the contacts in VMD. Parameters are 'cutoff' and 'total_dca_pairs' which can be changed to show desired result."
   ]
  },
  {
   "cell_type": "markdown",
   "metadata": {},
   "source": [
    "- [Main function](#Generate-DCA-contacts-Main-Function)\n",
    "- [Run function](#Run-function)"
   ]
  },
  {
   "cell_type": "markdown",
   "metadata": {},
   "source": [
    "### Inputs"
   ]
  },
  {
   "cell_type": "code",
   "execution_count": null,
   "metadata": {
    "collapsed": false
   },
   "outputs": [],
   "source": [
    "pdbID = '2zwh'\n",
    "pdb_file = '../actin/factin/oda9.pdb'\n",
    "# pdb_file = '../actin/sbm/oda4mer/oda4.pdb'\n",
    "# pdb_file = '../mreb/sbm/mamk/5ljv_mamk.pdb'\n",
    "# pdb_file = '../hsp70/4jne.pdb'\n",
    "# dca_contacts = np.loadtxt('../actin/pdb_interfacial_6A.contacts')\n",
    "# dca_contacts = np.loadtxt('../actin/plmDCA/actinf150_mapped_plm.contacts')\n",
    "dca_contacts = np.loadtxt('../actin/plmDCA/cytoplasm/from_actin-actin_subseq/cyt_oda_mapped.fn')\n",
    "# dca_contacts = np.loadtxt('../mreb/plmdca/mreb_single/mamk_mapped.fn')\n",
    "# dca_contacts = np.loadtxt('../hsp70/plmdca/hsp70_swiss_mapped.fn')"
   ]
  },
  {
   "cell_type": "markdown",
   "metadata": {
    "collapsed": true
   },
   "source": [
    "## Generate DCA contacts Main Function"
   ]
  },
  {
   "cell_type": "markdown",
   "metadata": {},
   "source": [
    "[Back to Overview](#Overview)"
   ]
  },
  {
   "cell_type": "code",
   "execution_count": null,
   "metadata": {
    "collapsed": false
   },
   "outputs": [],
   "source": [
    "def generate_dca_interface(dca_contacts, cutoff, total_dca_pairs):\n",
    "    # Initial parameters\n",
    "    atomselect = 0\n",
    "    valid_predictions = 0\n",
    "    missing_res = 0\n",
    "    \n",
    "    # Extract PDB information using BIOpython\n",
    "    p = PDBParser(PERMISSIVE=1)\n",
    "    structure = p.get_structure(pdbID, pdb_file)\n",
    "    \n",
    "    chain_length = len(Selection.unfold_entities(structure, 'C'))\n",
    "    \n",
    "    target = open('./gen_dca_contacts.tcl', 'w')\n",
    "    \n",
    "    # Loop thru each DCA pair for each Chain in PDB and calculate pair distances\n",
    "    # Then print out VMD instructions to draw contacts on PDB structure.\n",
    "    for pair in dca_contacts[0:total_dca_pairs]:\n",
    "        i = int(pair[0])\n",
    "        j = int(pair[1])\n",
    "#         print \"i: %d, j: %d\" % (i,j)\n",
    "        chainsI = structure.get_chains()\n",
    "        # Need this try statement in case there are missing residues in PDB\n",
    "        try:    \n",
    "            for chain_I in chainsI:\n",
    "                chainsJ = structure.get_chains()\n",
    "                for chain_J in chainsJ:\n",
    "                    res_i = chain_I[i]\n",
    "                    res_j = chain_J[j]\n",
    "                    dist = abs(res_i['CA'] - res_j['CA'])\n",
    "                    \n",
    "                    if (chain_J != chain_I):\n",
    "                        if (dist <= cutoff):\n",
    "                            valid_predictions = valid_predictions + 1\n",
    "#                             print \"dist: %f\\t Chain %s: %d, Chain %s: %d\" % (dist, chain_I.id, i, chain_J.id, j)\n",
    "\n",
    "                            target.write(\"set sel%d%s [atomselect top \\\"resid %d and name CA and chain %s\\\"]\\n\"\n",
    "                                         % (i, chain_I.id, i, chain_I.id))\n",
    "                            target.write(\"set sel%d%s [atomselect top \\\"resid %d and name CA and chain %s\\\"]\\n\" \n",
    "                                         % (j, chain_J.id, j, chain_J.id))\n",
    "\n",
    "                            target.write(\"lassign [atomselect%d get {x y z}] pos1\\n\" % atomselect)\n",
    "                            atomselect = atomselect + 1\n",
    "\n",
    "                            target.write(\"lassign [atomselect%d get {x y z}] pos2\\n\" % atomselect)\n",
    "                            atomselect = atomselect + 1\n",
    "\n",
    "                            target.write(\"draw color magenta\\n\")\n",
    "                            target.write(\"draw sphere $pos1 radius 2\\n\")\n",
    "                            target.write(\"draw color pink\\n\")\n",
    "                            target.write(\"draw sphere $pos2 radius 2\\n\")\n",
    "                            target.write(\"draw color cyan\\n\")\n",
    "                            target.write(\"draw line $pos1 $pos2 style dashed width 2\\n\")\n",
    "                            \n",
    "        # Need this in case there are missing residues in PDB\n",
    "        except:\n",
    "#             print \"**NOTE: MISSING RESIDUES: %d AND %d\" % (i, j)\n",
    "            missing_res = missing_res + 1\n",
    "\n",
    "    target.write(\"mol modselect 0 top \\\"all\\\"\\n\")\n",
    "    target.write(\"mol modstyle 0 top newcartoon\\n\")\n",
    "    target.write(\"mol modcolor 0 top chain\\n\")\n",
    "    target.close()\n",
    "    \n",
    "    if (missing_res > 0):\n",
    "        print \"** NOTE: %d MISSING RESIDUES FROM PDB **\\n\" % missing_res\n",
    "    print \"Out of %d DCA predictions for %d chains:\" % (total_dca_pairs, chain_length)\n",
    "    print \"Total DCA interfacial predictions at %dA cutoff: %d\\n\" % (cutoff, valid_predictions)"
   ]
  },
  {
   "cell_type": "markdown",
   "metadata": {},
   "source": [
    "[Back to Overview](#Overview)"
   ]
  },
  {
   "cell_type": "markdown",
   "metadata": {
    "collapsed": false
   },
   "source": [
    "## Run function"
   ]
  },
  {
   "cell_type": "code",
   "execution_count": null,
   "metadata": {
    "collapsed": false
   },
   "outputs": [],
   "source": [
    "cutoff = 17\n",
    "total_dca_pairs = 45\n",
    "\n",
    "generate_dca_interface(dca_contacts, cutoff, total_dca_pairs)"
   ]
  },
  {
   "cell_type": "code",
   "execution_count": null,
   "metadata": {
    "collapsed": true
   },
   "outputs": [],
   "source": []
  },
  {
   "cell_type": "markdown",
   "metadata": {
    "collapsed": true
   },
   "source": [
    "[Back to Overview](#Overview)"
   ]
  },
  {
   "cell_type": "code",
   "execution_count": null,
   "metadata": {
    "collapsed": true
   },
   "outputs": [],
   "source": []
  },
  {
   "cell_type": "markdown",
   "metadata": {},
   "source": []
  },
  {
   "cell_type": "code",
   "execution_count": null,
   "metadata": {
    "collapsed": false
   },
   "outputs": [],
   "source": []
  },
  {
   "cell_type": "markdown",
   "metadata": {
    "collapsed": true
   },
   "source": [
    "[Back to Overview](#Overview)"
   ]
  },
  {
   "cell_type": "code",
   "execution_count": null,
   "metadata": {
    "collapsed": true
   },
   "outputs": [],
   "source": []
  },
  {
   "cell_type": "code",
   "execution_count": null,
   "metadata": {
    "collapsed": false
   },
   "outputs": [],
   "source": []
  },
  {
   "cell_type": "code",
   "execution_count": null,
   "metadata": {
    "collapsed": false
   },
   "outputs": [],
   "source": []
  },
  {
   "cell_type": "code",
   "execution_count": null,
   "metadata": {
    "collapsed": false
   },
   "outputs": [],
   "source": []
  },
  {
   "cell_type": "code",
   "execution_count": null,
   "metadata": {
    "collapsed": true
   },
   "outputs": [],
   "source": []
  }
 ],
 "metadata": {
  "kernelspec": {
   "display_name": "Python 2",
   "language": "python",
   "name": "python2"
  },
  "language_info": {
   "codemirror_mode": {
    "name": "ipython",
    "version": 2
   },
   "file_extension": ".py",
   "mimetype": "text/x-python",
   "name": "python",
   "nbconvert_exporter": "python",
   "pygments_lexer": "ipython2",
   "version": "2.7.13"
  }
 },
 "nbformat": 4,
 "nbformat_minor": 2
}
